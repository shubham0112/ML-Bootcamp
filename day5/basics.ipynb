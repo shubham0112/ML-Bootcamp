{
 "cells": [
  {
   "cell_type": "code",
   "execution_count": 1,
   "id": "f4d49a10-b7bd-4ac9-ac4c-3be04c9b848f",
   "metadata": {},
   "outputs": [],
   "source": [
    "import tensorflow as tf"
   ]
  },
  {
   "cell_type": "code",
   "execution_count": 2,
   "id": "3b3d904f-782c-420d-8e71-9be7c013c21a",
   "metadata": {},
   "outputs": [
    {
     "data": {
      "text/plain": [
       "'2.3.0'"
      ]
     },
     "execution_count": 2,
     "metadata": {},
     "output_type": "execute_result"
    }
   ],
   "source": [
    "tf.__version__"
   ]
  },
  {
   "cell_type": "code",
   "execution_count": 3,
   "id": "21c2f1ef-16e0-4f21-b2e9-906e70eb3336",
   "metadata": {},
   "outputs": [],
   "source": [
    "a = tf.constant(10)"
   ]
  },
  {
   "cell_type": "code",
   "execution_count": 4,
   "id": "4a59ed60-d1bd-4feb-9467-6bbd5ac6c3d7",
   "metadata": {},
   "outputs": [],
   "source": [
    "b= tf.constant(20)"
   ]
  },
  {
   "cell_type": "markdown",
   "id": "3f6e55d2-f728-45b4-9f74-04defd85f8f4",
   "metadata": {},
   "source": [
    "## we can perform operations"
   ]
  },
  {
   "cell_type": "code",
   "execution_count": 20,
   "id": "42ba09aa-78aa-491a-be05-2c0671a7c110",
   "metadata": {},
   "outputs": [
    {
     "data": {
      "text/plain": [
       "<tf.Tensor: shape=(), dtype=int32, numpy=200>"
      ]
     },
     "execution_count": 20,
     "metadata": {},
     "output_type": "execute_result"
    }
   ],
   "source": [
    "a*b"
   ]
  },
  {
   "cell_type": "markdown",
   "id": "76c5379b-b5d4-49c0-8d6f-766b5e9a5cdd",
   "metadata": {},
   "source": [
    "## or the same with universsal functions"
   ]
  },
  {
   "cell_type": "code",
   "execution_count": 21,
   "id": "f77a7416-5fc9-4fe1-8985-fca5a6a5a73d",
   "metadata": {},
   "outputs": [
    {
     "data": {
      "text/plain": [
       "<bound method _EagerTensorBase.numpy of <tf.Tensor: shape=(), dtype=int32, numpy=200>>"
      ]
     },
     "execution_count": 21,
     "metadata": {},
     "output_type": "execute_result"
    }
   ],
   "source": [
    "tf.multiply(a,b).numpy"
   ]
  },
  {
   "cell_type": "code",
   "execution_count": 16,
   "id": "06f18afd-0097-482e-848a-77c04949938c",
   "metadata": {},
   "outputs": [
    {
     "data": {
      "text/plain": [
       "True"
      ]
     },
     "execution_count": 16,
     "metadata": {},
     "output_type": "execute_result"
    }
   ],
   "source": [
    "tf.executing_eagerly()"
   ]
  },
  {
   "cell_type": "markdown",
   "id": "aa727c54-caf4-4235-94c2-d997263d093d",
   "metadata": {},
   "source": [
    "## we can create variables"
   ]
  },
  {
   "cell_type": "code",
   "execution_count": 27,
   "id": "1978d305-10cd-4298-aa58-cb1cbf5641ad",
   "metadata": {},
   "outputs": [],
   "source": [
    "x = tf.Variable(2.)"
   ]
  },
  {
   "cell_type": "code",
   "execution_count": 28,
   "id": "a9ec2a37-0e70-47bc-a320-72e690504385",
   "metadata": {},
   "outputs": [
    {
     "data": {
      "text/plain": [
       "<tf.Variable 'UnreadVariable' shape=() dtype=float32, numpy=10.0>"
      ]
     },
     "execution_count": 28,
     "metadata": {},
     "output_type": "execute_result"
    }
   ],
   "source": [
    "x.assign(10)"
   ]
  },
  {
   "cell_type": "code",
   "execution_count": 29,
   "id": "d73c99e2-1b23-44f0-81b1-9504bbe7cd3d",
   "metadata": {},
   "outputs": [
    {
     "name": "stdout",
     "output_type": "stream",
     "text": [
      "Original value: 10.0\n",
      "add 1: 11.0\n",
      "subtract 5: 6.0\n"
     ]
    }
   ],
   "source": [
    "print(\"Original value:\",x.numpy())\n",
    "print(\"add 1:\",x.assign_add(1.).numpy())\n",
    "print('subtract 5:',x.assign_sub(5).numpy())"
   ]
  },
  {
   "cell_type": "markdown",
   "id": "a4f99537-fda1-4d38-8d45-aed6cbd09b3b",
   "metadata": {},
   "source": [
    "## matrices"
   ]
  },
  {
   "cell_type": "code",
   "execution_count": 24,
   "id": "99ad19f8-89e1-48a3-8703-df3b37ade500",
   "metadata": {},
   "outputs": [],
   "source": [
    "mat_a = tf.constant([[10,20],[39,48]])\n",
    "mat_b = tf.constant([[28,58],[29,92]])"
   ]
  },
  {
   "cell_type": "code",
   "execution_count": 25,
   "id": "ba752451-c66d-4502-9f82-44346c733cf2",
   "metadata": {},
   "outputs": [
    {
     "data": {
      "text/plain": [
       "<tf.Tensor: shape=(2, 2), dtype=int32, numpy=\n",
       "array([[ 860, 2420],\n",
       "       [2484, 6678]])>"
      ]
     },
     "execution_count": 25,
     "metadata": {},
     "output_type": "execute_result"
    }
   ],
   "source": [
    "tf.matmul(mat_a,mat_b)"
   ]
  },
  {
   "cell_type": "markdown",
   "id": "8b7cb184-5156-4721-ae72-06c7574149f5",
   "metadata": {},
   "source": [
    "## Numpy vs TensorFLow"
   ]
  },
  {
   "cell_type": "code",
   "execution_count": null,
   "id": "2b4f5960-8405-46d6-813c-dfb389997cb9",
   "metadata": {},
   "outputs": [],
   "source": []
  }
 ],
 "metadata": {
  "kernelspec": {
   "display_name": "Python 3",
   "language": "python",
   "name": "python3"
  },
  "language_info": {
   "codemirror_mode": {
    "name": "ipython",
    "version": 3
   },
   "file_extension": ".py",
   "mimetype": "text/x-python",
   "name": "python",
   "nbconvert_exporter": "python",
   "pygments_lexer": "ipython3",
   "version": "3.8.8"
  }
 },
 "nbformat": 4,
 "nbformat_minor": 5
}
