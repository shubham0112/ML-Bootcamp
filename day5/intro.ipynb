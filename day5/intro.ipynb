{
 "cells": [
  {
   "cell_type": "code",
   "execution_count": 43,
   "id": "73e1ddcb-93a1-47da-8099-d2f39017d8da",
   "metadata": {},
   "outputs": [],
   "source": [
    "import pandas as pd\n",
    "import numpy as np\n",
    "import matplotlib.pyplot as plt\n",
    "%matplotlib inline\n",
    "\n",
    "# Hide warnings\n",
    "import warnings\n",
    "warnings.filterwarnings('ignore')"
   ]
  },
  {
   "cell_type": "code",
   "execution_count": 44,
   "id": "22c535d7-a4da-423c-8555-25598fee5451",
   "metadata": {},
   "outputs": [],
   "source": [
    "import tensorflow as tf"
   ]
  },
  {
   "cell_type": "markdown",
   "id": "21b026ec-8a6a-4a49-8de9-513074906263",
   "metadata": {},
   "source": [
    "# TensorBoard setup"
   ]
  },
  {
   "cell_type": "markdown",
   "id": "031228ca-fe93-44b1-b4a6-26c874c3edc9",
   "metadata": {},
   "source": [
    "#### Tip: Setup TensorBoard if you want to monitor and analyze computational graphs etc"
   ]
  },
  {
   "cell_type": "code",
   "execution_count": 45,
   "id": "0bbc1242-9dd5-40c6-91f6-579246da944a",
   "metadata": {},
   "outputs": [],
   "source": [
    "from datetime import datetime\n",
    "import os\n",
    "import pathlib\n",
    "\n",
    "t = datetime.utcnow().strftime(\"%Y%m%d%H%M%S\") \n",
    "log_dir = \"tf_logs\"\n",
    "logd = \"{}/r{}/\".format(log_dir, t)\n",
    "\n",
    "# Make directory if it doesn't exist\n",
    "\n",
    "from pathlib import Path\n",
    "home = str(Path.home())\n",
    "\n",
    "logdir = os.path.join(os.sep,home,logd)\n",
    "\n",
    "if not os.path.exists(logdir):\n",
    "    os.makedirs(logdir)"
   ]
  },
  {
   "cell_type": "code",
   "execution_count": 46,
   "id": "495982b4-f82b-4a25-a726-585b3e9f3445",
   "metadata": {},
   "outputs": [
    {
     "data": {
      "text/plain": [
       "'C:\\\\Users\\\\shubh\\\\tf_logs/r20211103124219/'"
      ]
     },
     "execution_count": 46,
     "metadata": {},
     "output_type": "execute_result"
    }
   ],
   "source": [
    "logdir"
   ]
  },
  {
   "cell_type": "markdown",
   "id": "fdeed63b-19a3-4fa2-9778-ef95dd2f0bbd",
   "metadata": {},
   "source": [
    "# Look at the computational graph with @tf.function"
   ]
  },
  {
   "cell_type": "markdown",
   "id": "4ebc3484-4022-496c-ab81-83b610770daf",
   "metadata": {},
   "source": [
    "#### @tf.function is a very useful module taht can be used to convert simple python functons into a highly optimized computational graph that can be run on any runtime environment. When we build a model and then train it TensorFlow we can compile the model and optimize the executions"
   ]
  },
  {
   "cell_type": "code",
   "execution_count": 47,
   "id": "be42aa7d-e085-434d-bcbe-8f99a851f3e2",
   "metadata": {},
   "outputs": [],
   "source": [
    "@tf.function\n",
    "def func2(a,b):\n",
    "    z = tf.multiply(a,b,name='multiplying')\n",
    "    y1 = tf.constant(3,name='declaring_y1')\n",
    "    y2 = tf.constant(4)\n",
    "    w1 = tf.add(z,y1,name='adding_y1_to_z')\n",
    "    w2 = tf.add(z,y2,name='adding_y2_to_z')\n",
    "    \n",
    "    return(w1+w2)"
   ]
  },
  {
   "cell_type": "code",
   "execution_count": 48,
   "id": "b5dd6518-642a-41ee-b1e5-6ab14a635ccc",
   "metadata": {},
   "outputs": [
    {
     "data": {
      "text/plain": [
       "<tf.Tensor: shape=(), dtype=int32, numpy=407>"
      ]
     },
     "execution_count": 48,
     "metadata": {},
     "output_type": "execute_result"
    }
   ],
   "source": [
    "func2(10,20)"
   ]
  },
  {
   "cell_type": "code",
   "execution_count": 49,
   "id": "64d27878-4407-4cc0-ba22-1ee8f74e3fe8",
   "metadata": {},
   "outputs": [],
   "source": [
    "@tf.function\n",
    "def func(a,b):\n",
    "    with tf.name_scope('first'):\n",
    "        z = tf.multiply(a,b,name='multiplying')\n",
    "    with tf.name_scope('second'):\n",
    "        y1 = tf.constant(3,name='declaring_y1')\n",
    "        y2 = tf.constant(4)\n",
    "        w1 = tf.add(z,y1,name='adding_y1_to_z')\n",
    "        w2 = tf.add(z,y2,name='adding_y2_to_z')\n",
    "    \n",
    "    return(w1+w2)"
   ]
  },
  {
   "cell_type": "code",
   "execution_count": 50,
   "id": "d5320df7-1886-4564-a091-2b1dd4e6957d",
   "metadata": {},
   "outputs": [],
   "source": [
    "# setup a writer to save graph information and TensorFLow logs\n",
    "# to be displayed with Tensorboard\n",
    "\n",
    "writer = tf.summary.create_file_writer(logdir)\n",
    "tf.summary.trace_on()"
   ]
  },
  {
   "cell_type": "code",
   "execution_count": 51,
   "id": "f1174c18-4480-44e9-bd74-e6a7ee4cab3d",
   "metadata": {},
   "outputs": [],
   "source": [
    "a = tf.constant(3)\n",
    "b = tf.constant(4)\n",
    "func(a,b)\n",
    "with writer.as_default():\n",
    "    tf.summary.trace_export(\n",
    "        name=\"func\",\n",
    "        step=0,\n",
    "        profiler_outdir=logdir\n",
    "    )"
   ]
  },
  {
   "cell_type": "code",
   "execution_count": 52,
   "id": "4c611396-d4e4-4290-a3b2-bed30feb5471",
   "metadata": {},
   "outputs": [
    {
     "data": {
      "text/plain": [
       "'C:\\\\Users\\\\shubh\\\\tf_logs/r20211103124219/'"
      ]
     },
     "execution_count": 52,
     "metadata": {},
     "output_type": "execute_result"
    }
   ],
   "source": [
    "logdir"
   ]
  },
  {
   "cell_type": "code",
   "execution_count": 53,
   "id": "2234f251-9d36-482e-bfbd-bc3c8f8c9665",
   "metadata": {},
   "outputs": [
    {
     "name": "stdout",
     "output_type": "stream",
     "text": [
      "^C\n"
     ]
    }
   ],
   "source": [
    "# run tensorboard in the shell\n",
    "!tensorboard --logdir $logdir"
   ]
  },
  {
   "cell_type": "markdown",
   "id": "047546f0-e6d3-4717-927d-4b3652edb8fe",
   "metadata": {},
   "source": [
    "## tf.function and conditional statements"
   ]
  },
  {
   "cell_type": "markdown",
   "id": "f6246feb-2a57-455b-bcff-0ca0bcf6c4be",
   "metadata": {},
   "source": [
    "#### It is difficult to use conditions in graphs but we could implement that easily using @tf.function decorator"
   ]
  },
  {
   "cell_type": "code",
   "execution_count": 54,
   "id": "be014b63-e5f3-4202-b5fc-2a187b7de25c",
   "metadata": {},
   "outputs": [],
   "source": [
    "@tf.function\n",
    "def g(x):\n",
    "    y = tf.reduce_sum(x)\n",
    "    if y>0:\n",
    "        return y\n",
    "    return tf.abs(y)"
   ]
  },
  {
   "cell_type": "code",
   "execution_count": 55,
   "id": "056b9943-1ab7-4f00-a12e-d4e76c42bf60",
   "metadata": {},
   "outputs": [
    {
     "name": "stdout",
     "output_type": "stream",
     "text": [
      "def tf__g(x):\n",
      "    with ag__.FunctionScope('g', 'fscope', ag__.ConversionOptions(recursive=True, user_requested=True, optional_features=(), internal_convert_user_code=True)) as fscope:\n",
      "        do_return = False\n",
      "        retval_ = ag__.UndefinedReturnValue()\n",
      "        y = ag__.converted_call(ag__.ld(tf).reduce_sum, (ag__.ld(x),), None, fscope)\n",
      "\n",
      "        def get_state():\n",
      "            return (do_return, retval_)\n",
      "\n",
      "        def set_state(vars_):\n",
      "            nonlocal do_return, retval_\n",
      "            (do_return, retval_) = vars_\n",
      "\n",
      "        def if_body():\n",
      "            nonlocal do_return, retval_\n",
      "            try:\n",
      "                do_return = True\n",
      "                retval_ = ag__.ld(y)\n",
      "            except:\n",
      "                do_return = False\n",
      "                raise\n",
      "\n",
      "        def else_body():\n",
      "            nonlocal do_return, retval_\n",
      "            try:\n",
      "                do_return = True\n",
      "                retval_ = ag__.converted_call(ag__.ld(tf).abs, (ag__.ld(y),), None, fscope)\n",
      "            except:\n",
      "                do_return = False\n",
      "                raise\n",
      "        ag__.if_stmt((ag__.ld(y) > 0), if_body, else_body, get_state, set_state, ('do_return', 'retval_'), 2)\n",
      "        return fscope.ret(retval_, do_return)\n",
      "\n"
     ]
    }
   ],
   "source": [
    "print(tf.autograph.to_code(g.python_function))"
   ]
  },
  {
   "cell_type": "markdown",
   "id": "1e1cec3f-d10f-4b71-987d-be04253a90a1",
   "metadata": {},
   "source": [
    "# Calculate gradients"
   ]
  },
  {
   "cell_type": "markdown",
   "id": "71ec040c-3a43-4482-819f-b2b45b3c3760",
   "metadata": {},
   "source": [
    "#### Gradient evaluation is very importnat machine learning because it is based on function optimization. You can use tf.GradientTape() method to record the gradient of an arbitrary function"
   ]
  },
  {
   "cell_type": "code",
   "execution_count": 57,
   "id": "13751017-7405-43fa-99c1-ddc1cd634b4d",
   "metadata": {},
   "outputs": [
    {
     "name": "stdout",
     "output_type": "stream",
     "text": [
      "The gradient of exp at 3.0 is 28.08553695678711\n"
     ]
    }
   ],
   "source": [
    "w = tf.Variable(3.0)\n",
    "\n",
    "# Gradient scope for the function e^w + 2*w + w^2 \n",
    "with tf.GradientTape() as tape:\n",
    "    expression = tf.exp(w) + 2 * w +  w * w\n",
    "\n",
    "grad = tape.gradient(expression, w)\n",
    "print(f'The gradient of exp at {w.numpy()} is {grad.numpy()}')"
   ]
  },
  {
   "cell_type": "markdown",
   "id": "886b3e88-55fe-45ef-a504-5ab64bcd07e2",
   "metadata": {},
   "source": [
    "## Gradient of the Sigmoid function"
   ]
  },
  {
   "cell_type": "code",
   "execution_count": 58,
   "id": "74f45a5a-b283-433c-b121-4e293d0d3cfb",
   "metadata": {},
   "outputs": [],
   "source": [
    "def sigmoid(x):\n",
    "    return 1/(1 + tf.exp(-x))"
   ]
  },
  {
   "cell_type": "code",
   "execution_count": 59,
   "id": "df3a1079-d447-4db0-a5e7-8e2d5e538c91",
   "metadata": {},
   "outputs": [
    {
     "name": "stdout",
     "output_type": "stream",
     "text": [
      "The gradient of the sigmoid function at 0.0 is  0.25\n"
     ]
    }
   ],
   "source": [
    "#define a varaible\n",
    "x = tf.Variable(0.)\n",
    "\n",
    "#record the gradient\n",
    "with tf.GradientTape() as tape:\n",
    "    sig = sigmoid(x)\n",
    "    \n",
    "res = tape.gradient(sig, x).numpy()\n",
    "print('The gradient of the sigmoid function at 0.0 is ', res)"
   ]
  },
  {
   "cell_type": "code",
   "execution_count": null,
   "id": "04d31df7-682e-4683-8121-7e3e2350c6ec",
   "metadata": {},
   "outputs": [],
   "source": []
  }
 ],
 "metadata": {
  "kernelspec": {
   "display_name": "Python 3",
   "language": "python",
   "name": "python3"
  },
  "language_info": {
   "codemirror_mode": {
    "name": "ipython",
    "version": 3
   },
   "file_extension": ".py",
   "mimetype": "text/x-python",
   "name": "python",
   "nbconvert_exporter": "python",
   "pygments_lexer": "ipython3",
   "version": "3.8.8"
  }
 },
 "nbformat": 4,
 "nbformat_minor": 5
}
