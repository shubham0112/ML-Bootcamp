{
 "cells": [
  {
   "cell_type": "code",
   "execution_count": 4,
   "id": "0d12f1ff-d727-485c-921f-1b3eeedadf2b",
   "metadata": {},
   "outputs": [],
   "source": [
    "import numpy as np\n",
    "import matplotlib.pyplot as plt\n",
    "from sklearn.datasets import make_regression"
   ]
  },
  {
   "cell_type": "code",
   "execution_count": 8,
   "id": "b7546632-b5c8-43f3-b693-afeef46a508d",
   "metadata": {},
   "outputs": [],
   "source": [
    "bias = 100\n",
    "X, y, coef = make_regression(n_samples=100, n_features=1, bias=bias,noise=10, random_state=42, coef=True)"
   ]
  },
  {
   "cell_type": "code",
   "execution_count": 9,
   "id": "dd0ea894-ef32-48fa-806c-8150aecc384d",
   "metadata": {},
   "outputs": [
    {
     "data": {
      "text/plain": [
       "((100, 1), (100,))"
      ]
     },
     "execution_count": 9,
     "metadata": {},
     "output_type": "execute_result"
    }
   ],
   "source": [
    "X.shape, y.shape"
   ]
  },
  {
   "cell_type": "code",
   "execution_count": 10,
   "id": "00f059b7-ee20-409c-b553-c9deef8f382d",
   "metadata": {},
   "outputs": [
    {
     "data": {
      "text/plain": [
       "<matplotlib.collections.PathCollection at 0x155ce478fd0>"
      ]
     },
     "execution_count": 10,
     "metadata": {},
     "output_type": "execute_result"
    },
    {
     "data": {
      "image/png": "[encoded data removed]",
      "text/plain": [
       "<Figure size 432x288 with 1 Axes>"
      ]
     },
     "metadata": {
      "needs_background": "light"
     },
     "output_type": "display_data"
    }
   ],
   "source": [
    "plt.scatter(X, y)"
   ]
  },
  {
   "cell_type": "code",
   "execution_count": 11,
   "id": "3a8d9a16-4054-412b-aaa2-2c2893af295c",
   "metadata": {},
   "outputs": [
    {
     "data": {
      "text/plain": [
       "(array(41.74110031), 100)"
      ]
     },
     "execution_count": 11,
     "metadata": {},
     "output_type": "execute_result"
    }
   ],
   "source": [
    "coef, bias # here i have m and c from sklearn"
   ]
  },
  {
   "cell_type": "code",
   "execution_count": 13,
   "id": "8cddec6d-f326-42a1-8f03-c5d50efcf097",
   "metadata": {},
   "outputs": [],
   "source": [
    "y_gen = X * coef + bias #eq of line"
   ]
  },
  {
   "cell_type": "code",
   "execution_count": 14,
   "id": "d5ca28da-6e03-4ee2-b44b-93b150f709a1",
   "metadata": {},
   "outputs": [
    {
     "data": {
      "text/plain": [
       "[<matplotlib.lines.Line2D at 0x155ce4bbe50>]"
      ]
     },
     "execution_count": 14,
     "metadata": {},
     "output_type": "execute_result"
    },
    {
     "data": {
      "image/png": "[encoded data removed]",
      "text/plain": [
       "<Figure size 432x288 with 1 Axes>"
      ]
     },
     "metadata": {
      "needs_background": "light"
     },
     "output_type": "display_data"
    }
   ],
   "source": [
    "plt.scatter(X, y)\n",
    "plt.plot(X, y_gen)"
   ]
  },
  {
   "cell_type": "code",
   "execution_count": 16,
   "id": "62d29794-4dc6-4f74-b6ac-54f594ea7987",
   "metadata": {},
   "outputs": [],
   "source": [
    "# lets plot a line using LinearRegression"
   ]
  },
  {
   "cell_type": "code",
   "execution_count": 18,
   "id": "f91a4727-b6c0-4926-9b7b-ad707c3aef38",
   "metadata": {},
   "outputs": [],
   "source": [
    "from sklearn.linear_model import LinearRegression"
   ]
  },
  {
   "cell_type": "code",
   "execution_count": 19,
   "id": "3c4d50fb-f5a4-403e-b1a7-1880f9a55728",
   "metadata": {},
   "outputs": [],
   "source": [
    "model = LinearRegression()"
   ]
  },
  {
   "cell_type": "code",
   "execution_count": 22,
   "id": "dda5829e-7e38-4b73-acf9-a25f6d6259c7",
   "metadata": {},
   "outputs": [
    {
     "data": {
      "text/plain": [
       "LinearRegression()"
      ]
     },
     "execution_count": 22,
     "metadata": {},
     "output_type": "execute_result"
    }
   ],
   "source": [
    "model.fit(X,y)\n",
    "# work during training? figuring out m and c"
   ]
  },
  {
   "cell_type": "code",
   "execution_count": 28,
   "id": "81841071-46cc-486b-beb1-8304f4c4095a",
   "metadata": {},
   "outputs": [
    {
     "data": {
      "text/plain": [
       "(array([44.43716999]), 101.16511532052698)"
      ]
     },
     "execution_count": 28,
     "metadata": {},
     "output_type": "execute_result"
    }
   ],
   "source": [
    "# _ at end in python means that this value was not there initially it has been created after some function is executed \n",
    "model.coef_, model.intercept_"
   ]
  },
  {
   "cell_type": "code",
   "execution_count": 29,
   "id": "6df1f6db-9b83-474e-abc2-e82207872728",
   "metadata": {},
   "outputs": [
    {
     "data": {
      "text/plain": [
       "<matplotlib.legend.Legend at 0x155cf830940>"
      ]
     },
     "execution_count": 29,
     "metadata": {},
     "output_type": "execute_result"
    },
    {
     "data": {
      "image/png": "[encoded data removed]",
      "text/plain": [
       "<Figure size 432x288 with 1 Axes>"
      ]
     },
     "metadata": {
      "needs_background": "light"
     },
     "output_type": "display_data"
    }
   ],
   "source": [
    "plt.scatter(X, y)\n",
    "plt.plot(X, y_gen, label=\"Pre\")\n",
    "plt.plot(X, model.predict(X), label=\"LR\")\n",
    "plt.legend()"
   ]
  },
  {
   "cell_type": "markdown",
   "id": "d006daf0-4f42-4ba6-b5e7-4c41ced0837a",
   "metadata": {},
   "source": [
    "## Custom implementation"
   ]
  },
  {
   "cell_type": "code",
   "execution_count": 30,
   "id": "93c0b358-2ec2-4ed1-a477-cc0770f55b56",
   "metadata": {},
   "outputs": [],
   "source": [
    "class LinearRegCustom:\n",
    "    # constructor\n",
    "    def __init__(self, lr=0.1):\n",
    "        self.lr = lr\n",
    "    \n",
    "    # training function i.e. fit\n",
    "    def fit(self, X, y):\n",
    "        self._X = X # _X mock behavior like private\n",
    "        self._y = y.reshape(-1, 1) # converting into a 2-D array to do calculations, else it will give error due to some numpy shape\n",
    "        \n",
    "        # need to figure out value of coef & intercept\n",
    "        # step 1: pick these values at random \n",
    "        self.coef_ = np.random.random()\n",
    "        self.intercept_ = np.random.random()\n",
    "        \n",
    "        # gradient descent\n",
    "        errors = []\n",
    "        \n",
    "        # lets say we do this 50 times\n",
    "        for i in range(50):\n",
    "            self.gradient_decend()\n",
    "            errors.append(self.error())\n",
    "        return errors\n",
    "    \n",
    "    def gradient_decend(self):\n",
    "        # change in coef and intercept\n",
    "        d_coef, d_intercept = self.gradient()\n",
    "        self.coef_ -= d_coef * self.lr\n",
    "        self.intercept_ -= d_intercept * self.lr\n",
    "    \n",
    "    def gradient(self):\n",
    "        yh = self.predict(self._X) # from predict funtion\n",
    "        \n",
    "        d_coef = ((yh - self._y) * self._X).mean()\n",
    "        d_intercept = (yh - self._y).mean()\n",
    "        \n",
    "        return d_coef, d_intercept\n",
    "    \n",
    "    def predict(self, X):\n",
    "        return X * self.coef_ + self.intercept_\n",
    "    \n",
    "    def error(self):\n",
    "        return ((self.predict(self._X) - self._y) ** 2).sum()"
   ]
  },
  {
   "cell_type": "code",
   "execution_count": 31,
   "id": "f40f5ea9-9908-49a3-bab7-9da3e3e2d499",
   "metadata": {},
   "outputs": [],
   "source": [
    "model = LinearRegCustom(lr=.1)"
   ]
  },
  {
   "cell_type": "code",
   "execution_count": 33,
   "id": "f86bffae-aea3-4656-bf03-e092a1db780e",
   "metadata": {},
   "outputs": [],
   "source": [
    "errors = model.fit(X, y)"
   ]
  },
  {
   "cell_type": "code",
   "execution_count": 34,
   "id": "5f142898-b7e2-4670-8e0e-33176a8c0537",
   "metadata": {},
   "outputs": [
    {
     "data": {
      "text/plain": [
       "(43.25441116396166, 100.29661938051765)"
      ]
     },
     "execution_count": 34,
     "metadata": {},
     "output_type": "execute_result"
    }
   ],
   "source": [
    "model.coef_, model.intercept_"
   ]
  },
  {
   "cell_type": "code",
   "execution_count": 35,
   "id": "c66eb506-89e5-496d-808f-2ffbb996c519",
   "metadata": {},
   "outputs": [
    {
     "data": {
      "text/plain": [
       "<matplotlib.legend.Legend at 0x155cf8f1d00>"
      ]
     },
     "execution_count": 35,
     "metadata": {},
     "output_type": "execute_result"
    },
    {
     "data": {
      "image/png": "[encoded data removed]",
      "text/plain": [
       "<Figure size 432x288 with 1 Axes>"
      ]
     },
     "metadata": {
      "needs_background": "light"
     },
     "output_type": "display_data"
    }
   ],
   "source": [
    "plt.scatter(X, y)\n",
    "plt.plot(X, y_gen, label=\"Pre\")\n",
    "plt.plot(X, model.predict(X), label=\"CLR\")\n",
    "plt.legend()"
   ]
  },
  {
   "cell_type": "code",
   "execution_count": 36,
   "id": "734cc7dc-e794-4076-8138-8bd7d0728585",
   "metadata": {},
   "outputs": [
    {
     "data": {
      "text/plain": [
       "[<matplotlib.lines.Line2D at 0x155cf987670>]"
      ]
     },
     "execution_count": 36,
     "metadata": {},
     "output_type": "execute_result"
    },
    {
     "data": {
      "image/png": "[encoded data removed]",
      "text/plain": [
       "<Figure size 432x288 with 1 Axes>"
      ]
     },
     "metadata": {
      "needs_background": "light"
     },
     "output_type": "display_data"
    }
   ],
   "source": [
    "plt.plot(errors)"
   ]
  },
  {
   "cell_type": "code",
   "execution_count": 38,
   "id": "9ee70214-ca31-416d-a014-e9fce505b309",
   "metadata": {},
   "outputs": [],
   "source": [
    "# for i in range(1, 10):\n",
    "#     model = LinearRegCustom(lr=.5 * i)\n",
    "#     errors = model.fit(X, y)\n",
    "    \n",
    "#     plt.figure()\n",
    "    \n",
    "#     plt.title(str(.5 * i))\n",
    "#     plt.plot(errors)"
   ]
  },
  {
   "cell_type": "markdown",
   "id": "63f3385f-a83b-41e2-8bcc-3a760e22df6b",
   "metadata": {},
   "source": [
    "## housing problem"
   ]
  },
  {
   "cell_type": "code",
   "execution_count": 39,
   "id": "15d9ca51-f8e2-4729-af8b-add523bb9004",
   "metadata": {},
   "outputs": [],
   "source": [
    "from sklearn.datasets import load_boston\n",
    "import pandas as pd\n",
    "from sklearn.model_selection import train_test_split"
   ]
  },
  {
   "cell_type": "code",
   "execution_count": 40,
   "id": "22740dc7-7d0c-4f01-8bf0-8d93f2d3d5eb",
   "metadata": {},
   "outputs": [],
   "source": [
    "X, y = load_boston(return_X_y=True)"
   ]
  },
  {
   "cell_type": "code",
   "execution_count": 48,
   "id": "29953827-ef20-4265-86be-2b1e8e04157f",
   "metadata": {},
   "outputs": [],
   "source": [
    "# boston = load_boston()\n",
    "# print(boston.DESCR)"
   ]
  },
  {
   "cell_type": "code",
   "execution_count": 49,
   "id": "b2477e87-d992-4c5e-8ea0-8e3a157bf0f4",
   "metadata": {},
   "outputs": [],
   "source": [
    "X_train, X_test, y_train, y_test = train_test_split(\n",
    "...     X, y, test_size=0.33, random_state=42)"
   ]
  },
  {
   "cell_type": "code",
   "execution_count": 50,
   "id": "4e5e7737-e3d1-45e7-9882-e42f327703ed",
   "metadata": {},
   "outputs": [
    {
     "data": {
      "text/plain": [
       "LinearRegression()"
      ]
     },
     "execution_count": 50,
     "metadata": {},
     "output_type": "execute_result"
    }
   ],
   "source": [
    "model = LinearRegression()\n",
    "model.fit(X_train, y_train)"
   ]
  },
  {
   "cell_type": "code",
   "execution_count": 51,
   "id": "22c6487e-3193-4d30-9f03-10b1becc68db",
   "metadata": {},
   "outputs": [
    {
     "data": {
      "text/plain": [
       "array([28.53469469])"
      ]
     },
     "execution_count": 51,
     "metadata": {},
     "output_type": "execute_result"
    }
   ],
   "source": [
    "model.predict(X_test[:1])"
   ]
  },
  {
   "cell_type": "code",
   "execution_count": 52,
   "id": "9cc886b7-9a47-41a1-8b4c-df1f75039428",
   "metadata": {},
   "outputs": [
    {
     "data": {
      "text/plain": [
       "array([23.6])"
      ]
     },
     "execution_count": 52,
     "metadata": {},
     "output_type": "execute_result"
    }
   ],
   "source": [
    "y_test[:1]"
   ]
  },
  {
   "cell_type": "markdown",
   "id": "edf63c53-2bfd-4215-b1bb-1648e34bce14",
   "metadata": {},
   "source": [
    "## Salary dataset"
   ]
  },
  {
   "cell_type": "code",
   "execution_count": 53,
   "id": "64c73c13-c895-4dc9-b469-0a1a65103940",
   "metadata": {},
   "outputs": [],
   "source": [
    "dataset = pd.read_csv(\"Salary_Data.csv\")"
   ]
  },
  {
   "cell_type": "code",
   "execution_count": 55,
   "id": "ee80e75d-2481-491e-a07d-1887763daf79",
   "metadata": {},
   "outputs": [],
   "source": [
    "X = dataset.iloc[:, :-1].values\n",
    "y = dataset.iloc[:, 1].values"
   ]
  },
  {
   "cell_type": "code",
   "execution_count": 56,
   "id": "6d7a18d2-a319-4726-9e86-c923e22fe216",
   "metadata": {},
   "outputs": [],
   "source": [
    "X_train, X_test, y_train, y_test = train_test_split(\n",
    "...     X, y, test_size=0.33, random_state=42)"
   ]
  },
  {
   "cell_type": "code",
   "execution_count": 57,
   "id": "1a5e9aba-4713-4f6a-a78c-318bb969b255",
   "metadata": {},
   "outputs": [],
   "source": [
    "model = LinearRegression()"
   ]
  },
  {
   "cell_type": "code",
   "execution_count": 58,
   "id": "e58b2b21-9a71-4eff-8e6d-6fbe5316c1f7",
   "metadata": {},
   "outputs": [
    {
     "data": {
      "text/plain": [
       "LinearRegression()"
      ]
     },
     "execution_count": 58,
     "metadata": {},
     "output_type": "execute_result"
    }
   ],
   "source": [
    "model.fit(X_train, y_train)"
   ]
  },
  {
   "cell_type": "code",
   "execution_count": 59,
   "id": "b58a416b-a029-4885-aabb-64fec95b4604",
   "metadata": {},
   "outputs": [
    {
     "data": {
      "text/plain": [
       "array([115814.30756236,  71511.92534771, 102617.85328566,  75282.34085534,\n",
       "        55487.65944028])"
      ]
     },
     "execution_count": 59,
     "metadata": {},
     "output_type": "execute_result"
    }
   ],
   "source": [
    "model.predict(X_test[:5])"
   ]
  },
  {
   "cell_type": "code",
   "execution_count": 60,
   "id": "01c32c34-1c5b-41ae-967b-e4cb846f327b",
   "metadata": {},
   "outputs": [
    {
     "data": {
      "text/plain": [
       "array([112635.,  67938., 113812.,  83088.,  64445.])"
      ]
     },
     "execution_count": 60,
     "metadata": {},
     "output_type": "execute_result"
    }
   ],
   "source": [
    "y_test[:5]"
   ]
  },
  {
   "cell_type": "code",
   "execution_count": 61,
   "id": "f9baaa6d-a230-4a80-ac4e-f32233cb4fc4",
   "metadata": {},
   "outputs": [
    {
     "data": {
      "text/plain": [
       "0.9553063138044949"
      ]
     },
     "execution_count": 61,
     "metadata": {},
     "output_type": "execute_result"
    }
   ],
   "source": [
    "model.score(X_test, y_test)"
   ]
  },
  {
   "cell_type": "code",
   "execution_count": 64,
   "id": "d8f12879-34db-4844-9bfd-0b5c6fea322a",
   "metadata": {},
   "outputs": [
    {
     "name": "stdin",
     "output_type": "stream",
     "text": [
      "How many yrs of experience do you have:  5\n"
     ]
    },
    {
     "name": "stdout",
     "output_type": "stream",
     "text": [
      "\n",
      "Your estimated salary is $ 72454.5292246185\n"
     ]
    }
   ],
   "source": [
    "yrs = int(input(\"How many yrs of experience do you have: \"))\n",
    "sal = model.predict(np.array([yrs]).reshape(-1, 1))\n",
    "print(\"\\nYour estimated salary is $\", sal[0])"
   ]
  },
  {
   "cell_type": "code",
   "execution_count": null,
   "id": "0c93d81f-bf34-47ca-b954-4dd01b79e7c3",
   "metadata": {},
   "outputs": [],
   "source": []
  }
 ],
 "metadata": {
  "kernelspec": {
   "display_name": "Python 3",
   "language": "python",
   "name": "python3"
  },
  "language_info": {
   "codemirror_mode": {
    "name": "ipython",
    "version": 3
   },
   "file_extension": ".py",
   "mimetype": "text/x-python",
   "name": "python",
   "nbconvert_exporter": "python",
   "pygments_lexer": "ipython3",
   "version": "3.8.8"
  }
 },
 "nbformat": 4,
 "nbformat_minor": 5
}
