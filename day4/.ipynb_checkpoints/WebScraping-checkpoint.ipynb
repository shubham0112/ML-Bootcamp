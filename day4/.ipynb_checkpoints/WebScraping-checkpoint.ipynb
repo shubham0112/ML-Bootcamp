{
 "cells": [
  {
   "cell_type": "code",
   "execution_count": 1,
   "id": "b5a8d942-f4a2-4171-9c8e-6672493f8219",
   "metadata": {},
   "outputs": [],
   "source": [
    "import requests"
   ]
  },
  {
   "cell_type": "code",
   "execution_count": 2,
   "id": "6e040c5b-cad4-4d64-a6a6-08416f3770d0",
   "metadata": {},
   "outputs": [],
   "source": [
    "from bs4 import BeautifulSoup"
   ]
  },
  {
   "cell_type": "code",
   "execution_count": 4,
   "id": "45e2402d-13da-42f5-b161-79bc69db07bf",
   "metadata": {},
   "outputs": [],
   "source": [
    "url = \"https://www.goodreads.com/quotes/tag/{}?page={}\"\n",
    "# placeholder"
   ]
  },
  {
   "cell_type": "code",
   "execution_count": 42,
   "id": "0fd9a450-d9d9-4784-b60b-6e729b36870e",
   "metadata": {},
   "outputs": [
    {
     "data": {
      "text/plain": [
       "'https://www.goodreads.com/quotes/tag/love'"
      ]
     },
     "execution_count": 42,
     "metadata": {},
     "output_type": "execute_result"
    }
   ],
   "source": [
    "url.format(\"love\")"
   ]
  },
  {
   "cell_type": "code",
   "execution_count": 14,
   "id": "fcc6f65c-0dfe-47e9-8487-af71fa312ebe",
   "metadata": {},
   "outputs": [],
   "source": [
    "# links = soup.find_all(\"a\")"
   ]
  },
  {
   "cell_type": "code",
   "execution_count": 50,
   "id": "b3fce82b-b883-4955-8003-69f77bda0683",
   "metadata": {},
   "outputs": [],
   "source": [
    "def get_quotes(url):    \n",
    "    res = requests.get(url)\n",
    "\n",
    "    # parsing the text\n",
    "    soup = BeautifulSoup(res.text)\n",
    "\n",
    "    quote_divs = soup.find_all(\"div\",attrs={\"class\":\"quote\"})\n",
    "\n",
    "    quotes = []\n",
    "\n",
    "    for quote_div in quote_divs[0]:\n",
    "        quoteText_div = quote_div.find_next(\"div\",attrs={\"class\":\"quoteText\"})\n",
    "\n",
    "        striped = quoteText_div.text.strip()\n",
    "\n",
    "        striped_li = striped.split(\"\\n\")\n",
    "\n",
    "        quote = striped_li[0][1:-1]\n",
    "        author = striped_li[-1].strip()\n",
    "\n",
    "        left_div = quote_div.find_next(\"div\",attrs={\"class\":\"left\"})\n",
    "        tags = [tag.text for tag in left_div.find_all(\"a\")]\n",
    "\n",
    "        quote_item={\n",
    "            \"text\":quote,\n",
    "            \"author\":author,\n",
    "            \"tags\":tags\n",
    "        }\n",
    "\n",
    "        quotes.append(quote_item)\n",
    "        \n",
    "    return quotes"
   ]
  },
  {
   "cell_type": "code",
   "execution_count": 58,
   "id": "490f5cf3-6e9f-47b6-8d44-f60b6fee509e",
   "metadata": {},
   "outputs": [
    {
     "name": "stdout",
     "output_type": "stream",
     "text": [
      "processed 1\n",
      "processed 2\n",
      "processed 3\n",
      "processed 4\n",
      "processed 5\n"
     ]
    }
   ],
   "source": [
    "total = []\n",
    "for i in range(1,6):\n",
    "    total.extend(get_quotes(url.format(\"love\",i)))\n",
    "    print(\"processed\",i)"
   ]
  },
  {
   "cell_type": "code",
   "execution_count": 57,
   "id": "74e64cdd-006c-4f34-88a4-d90da2e34710",
   "metadata": {},
   "outputs": [
    {
     "data": {
      "text/plain": [
       "5"
      ]
     },
     "execution_count": 57,
     "metadata": {},
     "output_type": "execute_result"
    }
   ],
   "source": [
    "len(total)"
   ]
  }
 ],
 "metadata": {
  "kernelspec": {
   "display_name": "Python 3",
   "language": "python",
   "name": "python3"
  },
  "language_info": {
   "codemirror_mode": {
    "name": "ipython",
    "version": 3
   },
   "file_extension": ".py",
   "mimetype": "text/x-python",
   "name": "python",
   "nbconvert_exporter": "python",
   "pygments_lexer": "ipython3",
   "version": "3.8.8"
  }
 },
 "nbformat": 4,
 "nbformat_minor": 5
}
